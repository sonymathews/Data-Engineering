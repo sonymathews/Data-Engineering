{
 "cells": [
  {
   "cell_type": "markdown",
   "metadata": {},
   "source": [
    "#  import packges"
   ]
  },
  {
   "cell_type": "code",
   "execution_count": null,
   "metadata": {},
   "outputs": [],
   "source": [
    "import configparser\n",
    "import psycopg2\n",
    "import pandas as pd\n",
    "import boto3\n",
    "import json\n",
    "import time\n",
    "from botocore.exceptions import ClientError"
   ]
  },
  {
   "cell_type": "markdown",
   "metadata": {},
   "source": [
    "## Load sql ext"
   ]
  },
  {
   "cell_type": "code",
   "execution_count": null,
   "metadata": {},
   "outputs": [],
   "source": [
    "    config = configparser.ConfigParser()\n",
    "    config.read('dwh.cfg')\n",
    "\n",
    "    KEY                    = config.get(\"ACCESS\",\"KEY\")\n",
    "    SECRET                 = config.get(\"ACCESS\",\"SECRET\")\n",
    "\n",
    "    DWH_CLUSTER_TYPE       = 'multi-node'\n",
    "    DWH_NUM_NODES          = 8\n",
    "    DWH_NODE_TYPE          = 'dc2.large'\n",
    "\n",
    "    DWH_DB                 = config.get(\"CLUSTER\",\"DB_NAME\")\n",
    "    DWH_DB_USER            = config.get(\"CLUSTER\",\"DB_USER\")\n",
    "    DWH_DB_PASSWORD        = config.get(\"CLUSTER\",\"DB_PASSWORD\")\n",
    "    DWH_PORT               = config.get(\"CLUSTER\",\"DB_PORT\")\n",
    "    DWH_ENDPOINT           = config.get(\"CLUSTER\",\"HOST\")\n",
    "    DWH_CLUSTER_IDENTIFIER = 'udacity-project-cluster'\n",
    "\n",
    "    DWH_IAM_ROLE_NAME      = config.get(\"IAM_ROLE\", \"ROLE_NAME\")\n",
    "\n",
    "    (DWH_DB_USER, DWH_DB_PASSWORD, DWH_DB)\n",
    "\n",
    "    pd.DataFrame({\"Param\":\n",
    "                  [\"DWH_CLUSTER_TYPE\", \"DWH_NUM_NODES\", \"DWH_NODE_TYPE\", \"DWH_CLUSTER_IDENTIFIER\", \"DWH_DB\", \"DWH_DB_USER\", \"DWH_DB_PASSWORD\", \"DWH_PORT\", \"DWH_IAM_ROLE_NAME\"],\n",
    "              \"Value\":\n",
    "                  [DWH_CLUSTER_TYPE, DWH_NUM_NODES, DWH_NODE_TYPE, DWH_CLUSTER_IDENTIFIER, DWH_DB, DWH_DB_USER, DWH_DB_PASSWORD, DWH_PORT, DWH_IAM_ROLE_NAME]\n",
    "             })"
   ]
  },
  {
   "cell_type": "code",
   "execution_count": null,
   "metadata": {},
   "outputs": [],
   "source": [
    "%load_ext sql"
   ]
  },
  {
   "cell_type": "markdown",
   "metadata": {
    "toc-hr-collapsed": true
   },
   "source": [
    "##  connect to database"
   ]
  },
  {
   "cell_type": "code",
   "execution_count": null,
   "metadata": {
    "scrolled": true
   },
   "outputs": [],
   "source": [
    "conn_string=\"postgresql://{}:{}@{}:{}/{}\".format(DWH_DB_USER, DWH_DB_PASSWORD, DWH_ENDPOINT, DWH_PORT,DWH_DB)\n",
    "print(conn_string)\n",
    "%sql $conn_string"
   ]
  },
  {
   "cell_type": "code",
   "execution_count": null,
   "metadata": {},
   "outputs": [],
   "source": [
    "nEventstaging = %sql select count(*) from staging_events;\n",
    "nSongstaging = %sql select count(*) from staging_songs;\n",
    "nSongplays = %sql select count(*) from songplays;\n",
    "nUsers = %sql select count(*) from users;\n",
    "nSongs = %sql select count(*) from songs;\n",
    "nArtists = %sql select count(*) from artists;\n",
    "ntime = %sql select count(*) from time;\n",
    "\n",
    "print(\"Event staging table data count\\t\\t=\", nEventstaging[0][0])\n",
    "print(\"Song Staging table data count\\t\\t=\", nSongstaging[0][0])\n",
    "print(\"Songplays table data count\\t\\t=\", nSongplays[0][0])\n",
    "print(\"Users table data count\\t\\t=\", nUsers[0][0])\n",
    "print(\"Songs table data count\\t\\t=\", nSongs[0][0])\n",
    "print(\"Artists table data count\\t\\t=\", nArtists[0][0])\n",
    "print(\"time table data count\\t\\t=\", ntime[0][0])"
   ]
  }
 ],
 "metadata": {
  "kernelspec": {
   "display_name": "Python 3 (ipykernel)",
   "language": "python",
   "name": "python3"
  },
  "language_info": {
   "codemirror_mode": {
    "name": "ipython",
    "version": 3
   },
   "file_extension": ".py",
   "mimetype": "text/x-python",
   "name": "python",
   "nbconvert_exporter": "python",
   "pygments_lexer": "ipython3",
   "version": "3.10.8"
  },
  "toc": {
   "base_numbering": 1,
   "nav_menu": {},
   "number_sections": true,
   "sideBar": true,
   "skip_h1_title": false,
   "title_cell": "Table of Contents",
   "title_sidebar": "Contents",
   "toc_cell": false,
   "toc_position": {},
   "toc_section_display": true,
   "toc_window_display": false
  },
  "toc-autonumbering": false,
  "toc-showcode": false,
  "toc-showmarkdowntxt": false,
  "toc-showtags": false
 },
 "nbformat": 4,
 "nbformat_minor": 4
}
